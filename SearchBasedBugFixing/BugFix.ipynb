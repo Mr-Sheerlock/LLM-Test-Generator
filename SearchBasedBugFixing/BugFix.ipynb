{
 "cells": [
  {
   "cell_type": "code",
   "execution_count": 1,
   "metadata": {},
   "outputs": [],
   "source": [
    "%load_ext autoreload\n",
    "%autoreload 2"
   ]
  },
  {
   "cell_type": "code",
   "execution_count": 1,
   "metadata": {},
   "outputs": [],
   "source": [
    "from bugFixLogic import bugFix"
   ]
  },
  {
   "cell_type": "code",
   "execution_count": 2,
   "metadata": {},
   "outputs": [
    {
     "name": "stdout",
     "output_type": "stream",
     "text": [
      "The folder 'FauxPyReport_SearchBasedBugFixing_sbfl_statement_2024_05_23_19_44_09_392176' has been deleted.\n",
      "File 'test.py' created in 'testcases/GeneratedTests' with the converted Python code.\n",
      "returned from fault localization\n",
      "\n",
      "0\n",
      "************************************************************\n",
      "def add(a, b):\n",
      "    return a + b\n",
      "************************************************************\n",
      "2500\n",
      "def add(a, b):\n",
      "    return a - b\n",
      "def add(a, b):\n",
      "    return a + b\n",
      "def add(a, b):\n",
      "    return a - b - 1\n",
      "def add(a, b):\n",
      "    return b - b\n",
      "def add(a, b):\n",
      "    return a - a\n",
      "def add(a, b):\n",
      "    return a\n",
      "def add(a, b):\n",
      "    return a\n",
      "def add(a, b):\n",
      "    return a\n",
      "def add(a, b):\n",
      "    return\n",
      "def add(a, b):\n",
      "    return a - a\n"
     ]
    }
   ],
   "source": [
    "bugFix('[[1, 2],[3, 89]]', '[[3], [92]]', 'add', 'def add(a, b): return a - b')"
   ]
  }
 ],
 "metadata": {
  "kernelspec": {
   "display_name": "Python 3",
   "language": "python",
   "name": "python3"
  },
  "language_info": {
   "codemirror_mode": {
    "name": "ipython",
    "version": 3
   },
   "file_extension": ".py",
   "mimetype": "text/x-python",
   "name": "python",
   "nbconvert_exporter": "python",
   "pygments_lexer": "ipython3",
   "version": "3.11.0"
  }
 },
 "nbformat": 4,
 "nbformat_minor": 2
}
